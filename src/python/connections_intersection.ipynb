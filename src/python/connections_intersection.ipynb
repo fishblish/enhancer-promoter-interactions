{
 "cells": [
  {
   "cell_type": "code",
   "execution_count": 3,
   "id": "8363ded4",
   "metadata": {},
   "outputs": [],
   "source": [
    "import os\n",
    "path = os.getcwd()\n",
    "path = path.split('interactions', 1)[0] + 'interactions'\n",
    "print(path)"
   ]
  },
  {
   "cell_type": "code",
   "execution_count": 5,
   "id": "8411ff2f",
   "metadata": {
    "scrolled": true
   },
   "outputs": [
    {
     "data": {
      "text/html": [
       "<div>\n",
       "<style scoped>\n",
       "    .dataframe tbody tr th:only-of-type {\n",
       "        vertical-align: middle;\n",
       "    }\n",
       "\n",
       "    .dataframe tbody tr th {\n",
       "        vertical-align: top;\n",
       "    }\n",
       "\n",
       "    .dataframe thead th {\n",
       "        text-align: right;\n",
       "    }\n",
       "</style>\n",
       "<table border=\"1\" class=\"dataframe\">\n",
       "  <thead>\n",
       "    <tr style=\"text-align: right;\">\n",
       "      <th></th>\n",
       "      <th>Peak1</th>\n",
       "      <th>Peak2</th>\n",
       "      <th>coaccess</th>\n",
       "    </tr>\n",
       "  </thead>\n",
       "  <tbody>\n",
       "    <tr>\n",
       "      <th>0</th>\n",
       "      <td>2L:10000911-10005105</td>\n",
       "      <td>2L:9950542-9951114</td>\n",
       "      <td>-0.004935</td>\n",
       "    </tr>\n",
       "    <tr>\n",
       "      <th>1</th>\n",
       "      <td>2L:10000911-10005105</td>\n",
       "      <td>2L:9951639-9952096</td>\n",
       "      <td>-0.006133</td>\n",
       "    </tr>\n",
       "    <tr>\n",
       "      <th>2</th>\n",
       "      <td>2L:10000911-10005105</td>\n",
       "      <td>2L:9953572-9954853</td>\n",
       "      <td>0.535853</td>\n",
       "    </tr>\n",
       "    <tr>\n",
       "      <th>3</th>\n",
       "      <td>2L:10000911-10005105</td>\n",
       "      <td>2L:9956463-9957908</td>\n",
       "      <td>0.569393</td>\n",
       "    </tr>\n",
       "    <tr>\n",
       "      <th>4</th>\n",
       "      <td>2L:10000911-10005105</td>\n",
       "      <td>2L:9963307-9963951</td>\n",
       "      <td>0.365548</td>\n",
       "    </tr>\n",
       "  </tbody>\n",
       "</table>\n",
       "</div>"
      ],
      "text/plain": [
       "                  Peak1               Peak2  coaccess\n",
       "0  2L:10000911-10005105  2L:9950542-9951114 -0.004935\n",
       "1  2L:10000911-10005105  2L:9951639-9952096 -0.006133\n",
       "2  2L:10000911-10005105  2L:9953572-9954853  0.535853\n",
       "3  2L:10000911-10005105  2L:9956463-9957908  0.569393\n",
       "4  2L:10000911-10005105  2L:9963307-9963951  0.365548"
      ]
     },
     "execution_count": 5,
     "metadata": {},
     "output_type": "execute_result"
    }
   ],
   "source": [
    "import pyreadr\n",
    "\n",
    "result = pyreadr.read_r(path+'/results/whole_data/saved_conns_params.rds')\n",
    "found_conns =result[None]\n",
    "found_conns.head()"
   ]
  },
  {
   "cell_type": "code",
   "execution_count": null,
   "id": "f7850435",
   "metadata": {},
   "outputs": [],
   "source": []
  }
 ],
 "metadata": {
  "kernelspec": {
   "display_name": "Python 3 (ipykernel)",
   "language": "python",
   "name": "python3"
  },
  "language_info": {
   "codemirror_mode": {
    "name": "ipython",
    "version": 3
   },
   "file_extension": ".py",
   "mimetype": "text/x-python",
   "name": "python",
   "nbconvert_exporter": "python",
   "pygments_lexer": "ipython3",
   "version": "3.10.12"
  }
 },
 "nbformat": 4,
 "nbformat_minor": 5
}
